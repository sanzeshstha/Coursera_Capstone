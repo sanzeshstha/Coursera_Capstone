{
  "nbformat": 4,
  "nbformat_minor": 0,
  "metadata": {
    "colab": {
      "name": "Data_Science_Capstone_Project.ipynb",
      "provenance": []
    },
    "kernelspec": {
      "name": "python3",
      "display_name": "Python 3"
    }
  },
  "cells": [
    {
      "cell_type": "markdown",
      "metadata": {
        "id": "Z1GuA1XsKU7C"
      },
      "source": [
        "## Data Science Coursera Capstone"
      ]
    },
    {
      "cell_type": "markdown",
      "metadata": {
        "id": "mXvf_sMqKoKB"
      },
      "source": [
        "<p>The goal of this notebook is to complete the IBM Data Science Coursera Capstone Project</p>"
      ]
    },
    {
      "cell_type": "code",
      "metadata": {
        "id": "OPVV6S3jK5pr"
      },
      "source": [
        "import numpy as np\r\n",
        "import pandas as pd"
      ],
      "execution_count": 1,
      "outputs": []
    },
    {
      "cell_type": "code",
      "metadata": {
        "colab": {
          "base_uri": "https://localhost:8080/"
        },
        "id": "Ht-hiNUTLDPm",
        "outputId": "79e248fe-2b1a-4f0b-c258-52aed81e3985"
      },
      "source": [
        "print(\"Hello Capstone Project Course!\")"
      ],
      "execution_count": 2,
      "outputs": [
        {
          "output_type": "stream",
          "text": [
            "Hello Capstone Project Course!\n"
          ],
          "name": "stdout"
        }
      ]
    }
  ]
}