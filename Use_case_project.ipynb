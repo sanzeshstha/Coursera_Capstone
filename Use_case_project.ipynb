{
  "nbformat": 4,
  "nbformat_minor": 0,
  "metadata": {
    "colab": {
      "name": "Use_case_project.ipynb",
      "provenance": []
    },
    "kernelspec": {
      "name": "python3",
      "display_name": "Python 3"
    }
  },
  "cells": [
    {
      "cell_type": "markdown",
      "metadata": {
        "id": "g5F4rpKlo5-g"
      },
      "source": [
        "<center><strong><h1>Clustering the Neighbourhoods of London and Paris\n",
        "</h1></strong></center>\n"
      ]
    },
    {
      "cell_type": "markdown",
      "metadata": {
        "id": "AA2il70jpho0"
      },
      "source": [
        "## Introduction"
      ]
    },
    {
      "cell_type": "markdown",
      "metadata": {
        "id": "YtJ34c6Apr37"
      },
      "source": [
        "London and Paris are quite the popular tourist and vacation destinations for people all around the world. They are diverse and multicultural and offer a wide variety of experiences that is widely sought after. We try to group the neighbourhoods of London and Paris respectively and draw insights to what they look like now."
      ]
    },
    {
      "cell_type": "markdown",
      "metadata": {
        "id": "GZytGBidp02A"
      },
      "source": [
        "## Business Problem\n"
      ]
    },
    {
      "cell_type": "markdown",
      "metadata": {
        "id": "sM25Mykdp7Rk"
      },
      "source": [
        "The aim is to help tourists choose their destinations depending on the experiences that the neighbourhoods have to offer and what they would want to have. This also helps people make decisions if they are thinking about migrating to London or Paris or even if they want to relocate neighbourhoods within the city. Our findings will help stakeholders make informed decisions and address any concerns they have including the different kinds of cuisines, provision stores and what the city has to offer."
      ]
    },
  ]
}
