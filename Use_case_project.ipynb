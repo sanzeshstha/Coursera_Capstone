{
  "nbformat": 4,
  "nbformat_minor": 0,
  "metadata": {
    "colab": {
      "name": "Use_case_project.ipynb",
      "provenance": [],
      "collapsed_sections": []
    },
    "kernelspec": {
      "name": "python3",
      "display_name": "Python 3"
    }
  },
  "cells": [
    {
      "cell_type": "markdown",
      "metadata": {
        "id": "g5F4rpKlo5-g"
      },
      "source": [
        "<h1 align = 'center'>Clustering the Neighbourhoods of London and Paris</h1>"
      ]
    },
    {
      "cell_type": "markdown",
      "metadata": {
        "id": "AA2il70jpho0"
      },
      "source": [
        "## Introduction\n",
        "---"
      ]
    },
    {
      "cell_type": "markdown",
      "metadata": {
        "id": "YtJ34c6Apr37"
      },
      "source": [
        "London and Paris are quite the popular tourist and vacation destinations for people all around the world. They are diverse and multicultural and offer a wide variety of experiences that is widely sought after. We try to group the neighbourhoods of London and Paris respectively and draw insights to what they look like now."
      ]
    },
    {
      "cell_type": "markdown",
      "metadata": {
        "id": "GZytGBidp02A"
      },
      "source": [
        "## Business Problem\n",
        "---\n"
      ]
    },
    {
      "cell_type": "markdown",
      "metadata": {
        "id": "sM25Mykdp7Rk"
      },
      "source": [
        "The aim is to help tourists choose their destinations depending on the experiences that the neighbourhoods have to offer and what they would want to have. This also helps people make decisions if they are thinking about migrating to London or Paris or even if they want to relocate neighbourhoods within the city. Our findings will help stakeholders make informed decisions and address any concerns they have including the different kinds of cuisines, provision stores and what the city has to offer."
      ]
    },
    {
      "cell_type": "markdown",
      "metadata": {
        "id": "P64IOwjPxB1P"
      },
      "source": [
        "## Data Description\n",
        "---"
      ]
    },
    {
      "cell_type": "markdown",
      "metadata": {
        "id": "KHpM-xJ6xZn4"
      },
      "source": [
        "We require geographical location data for both London and Paris. Postal codes in each city serve as a starting point. Using Postal codes we use can find out the neighborhoods, boroughs, venues and their most popular venue categories."
      ]
    },
    {
      "cell_type": "markdown",
      "metadata": {
        "id": "jC0NqY6mx5-D"
      },
      "source": [
        "## London\n",
        "\n",
        "To derive our solution, We scrape our data from https://en.wikipedia.org/wiki/List_of_areas_of_London\n",
        "\n",
        "This wikipedia page has information about all the neighbourhoods, we limit it London.\n",
        "\n",
        "1. *borough* : Name of Neighbourhood\n",
        "2. *town* : Name of borough\n",
        "3. *post_code* : Postal codes for London.\n",
        "\n",
        "This wikipedia page lacks information about the geographical locations. To solve this problem we use ArcGIS API\n",
        "\n",
        "### ArcGIS API\n",
        "\n",
        "ArcGIS Online enables you to connect people, locations, and data using interactive maps. Work with smart, data-driven styles and intuitive analysis tools that deliver location intelligence. Share your insights with the world or specific groups. \n",
        "\n",
        "More specifically, we use ArcGIS to get the geo locations of the neighbourhoods of London. The following columns are added to our initial dataset which prepares our data. \n",
        "\n",
        "4. *latitude* : Latitude for Neighbourhood\n",
        "5. *longitude* : Longitude for Neighbourhood\n",
        "\n",
        "## Paris\n",
        "\n",
        "To derive our solution, We leverage JSON data available at https://www.data.gouv.fr/fr/datasets/r/e88c6fda-1d09-42a0-a069-606d3259114e \n",
        "\n",
        "The JSON file has data about all the neighbourhoods in France, we limit it to Paris.\n",
        "\n",
        "1. *postal_code* : Postal codes for France\n",
        "2. *nom_comm* : Name of Neighbourhoods in France\n",
        "3. *nom_dept* : Name of the boroughs, equivalent to towns in France\n",
        "4. *geo_point_2d* : Tuple containing the latitude and longitude of the Neighbourhoods.\n",
        "\n",
        "## Foursquare API Data\n",
        "\n",
        "We will need data about different venues in different neighbourhoods of that specific borough. In order to gain that information we will use \"Foursquare\" locational information. Foursquare is a location data provider with information about all manner of venues and events within an area of interest. Such information includes venue names, locations, menus and even photos. As such, the foursquare location platform will be used as the sole data source since all the stated required information can be obtained through the API.\n",
        "\n",
        "After finding the list of neighbourhoods, we then connect to the Foursquare API to gather information about venues inside each and every neighbourhood. For each neighbourhood, we have chosen the radius to be 500 meters.\n",
        "\n",
        "The data retrieved from Foursquare contained information of venues within a specified distance of the longitude and latitude of the postcodes. The information obtained per venue as follows:\n",
        "\n",
        "1. *Neighbourhood* : Name of the Neighbourhood\n",
        "2. *Neighbourhood Latitude* : Latitude of the Neighbourhood\n",
        "3. *Neighbourhood Longitude* : Longitude of the Neighbourhood\n",
        "4. *Venue* : Name of the Venue\n",
        "5. *Venue Latitude* : Latitude of Venue\n",
        "6. *Venue Longitude* : Longitude of Venue\n",
        "7. *Venue Category* : Category of Venue\n",
        "\n",
        "\n",
        "Based on all the information collected for both London and Paris, we have sufficient data to build our model. We cluster the neighbourhoods together based on similar venue categories. We then present our observations and findings. Using this data, our stakeholders can take the necessary decision."
      ]
    },
    {
      "cell_type": "code",
      "metadata": {
        "id": "KIQEnfthx_-z"
      },
      "source": [
        ""
      ],
      "execution_count": null,
      "outputs": []
    }
  ]
}